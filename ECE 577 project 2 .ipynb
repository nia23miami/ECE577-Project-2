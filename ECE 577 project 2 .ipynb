{
 "cells": [
  {
   "cell_type": "code",
   "execution_count": null,
   "metadata": {},
   "outputs": [],
   "source": [
    "#numpy for csv i/o, pandas for dataframe\n",
    "import numpy as np\n",
    "import pandas as pd\n",
    "import seaborn as sns\n",
    "import matplotlib.pyplot as plt\n",
    "\n",
    "\n",
    "#read in file\n",
    "df = pd.read_csv('Heart_Disease_Prediction.csv')\n",
    "df.head()"
   ]
  },
  {
   "cell_type": "code",
   "execution_count": null,
   "metadata": {
    "scrolled": true
   },
   "outputs": [],
   "source": [
    "#Change heart disease from 'presence'/'absence' to 1/0\n",
    "df[['Heart Disease']] = df[['Heart Disease']].replace(['Presence','Absence'],[1,0])\n",
    "df.head()"
   ]
  },
  {
   "cell_type": "code",
   "execution_count": null,
   "metadata": {
    "scrolled": true
   },
   "outputs": [],
   "source": [
    "df.info()"
   ]
  },
  {
   "cell_type": "code",
   "execution_count": null,
   "metadata": {},
   "outputs": [],
   "source": [
    "#Check for -9: missing values in this data set (none present)\n",
    "df.eq(-9.0).sum()"
   ]
  },
  {
   "cell_type": "code",
   "execution_count": null,
   "metadata": {
    "scrolled": true
   },
   "outputs": [],
   "source": [
    "#Check for null values (none present)\n",
    "df.isnull().sum()"
   ]
  },
  {
   "cell_type": "code",
   "execution_count": null,
   "metadata": {},
   "outputs": [],
   "source": [
    "sns.catplot(x= \"Heart Disease\", kind= \"count\", data=df, palette= \"pastel\").set_xticklabels([\"Presence\", \"Absence\" ])\n",
    "plt.title(\"Heart Disease\")"
   ]
  },
  {
   "cell_type": "code",
   "execution_count": null,
   "metadata": {},
   "outputs": [],
   "source": [
    "#Show correlation of pairs of attributes\n",
    "df.corr()"
   ]
  },
  {
   "cell_type": "code",
   "execution_count": null,
   "metadata": {},
   "outputs": [],
   "source": [
    "sns.heatmap(df.corr())"
   ]
  },
  {
   "cell_type": "code",
   "execution_count": null,
   "metadata": {
    "scrolled": true
   },
   "outputs": [],
   "source": [
    "#Pick only the 4 with most correlation, including class itself\n",
    "num_attributes = 6\n",
    "full_feature_names = df.corr().nlargest(num_attributes,'Heart Disease').index\n",
    "hd_feature_names = df.corr().nlargest(num_attributes,'Heart Disease').index.drop('Heart Disease')\n",
    "df.corr().nlargest(num_attributes,'Heart Disease').index.tolist()"
   ]
  },
  {
   "cell_type": "code",
   "execution_count": null,
   "metadata": {},
   "outputs": [],
   "source": [
    "hd_feature_names"
   ]
  },
  {
   "cell_type": "code",
   "execution_count": null,
   "metadata": {
    "scrolled": true
   },
   "outputs": [],
   "source": [
    "plt.figure(figsize=(50,50))\n",
    "sns.displot(df[df['Heart Disease']==1]['Thallium'],kde=True,bins=50)\n",
    "plt.title(\"Thallium of Heart Diseased Patients\")"
   ]
  },
  {
   "cell_type": "code",
   "execution_count": null,
   "metadata": {
    "scrolled": true
   },
   "outputs": [],
   "source": [
    "plt.figure(figsize=(50,50))\n",
    "sns.displot(df[df['Heart Disease']==1]['ST depression'],kde=True,bins=50)\n",
    "plt.title(\"ST depression of Heart Diseased Patients\")"
   ]
  },
  {
   "cell_type": "code",
   "execution_count": null,
   "metadata": {},
   "outputs": [],
   "source": [
    "plt.figure(figsize=(50,50))\n",
    "sns.displot(df[df['Heart Disease']==1]['Number of vessels fluro'],kde=True,bins=50)\n",
    "plt.title(\"Number of vessels fluro of Heart Diseased Patients\")"
   ]
  },
  {
   "cell_type": "code",
   "execution_count": null,
   "metadata": {},
   "outputs": [],
   "source": [
    "plt.figure(figsize=(50,50))\n",
    "sns.displot(df[df['Heart Disease']==1]['Exercise angina'],kde=True,bins=50)\n",
    "plt.title(\" Exercise angina of Heart Diseased Patients\")"
   ]
  },
  {
   "cell_type": "code",
   "execution_count": null,
   "metadata": {},
   "outputs": [],
   "source": [
    "plt.figure(figsize=(50,50))\n",
    "sns.displot(df[df['Heart Disease']==1]['Chest pain type'],kde=True,bins=50)\n",
    "plt.title(\"chest pain type of Heart Diseased Patients\")\n"
   ]
  },
  {
   "cell_type": "code",
   "execution_count": null,
   "metadata": {},
   "outputs": [],
   "source": [
    "from sklearn import linear_model\n",
    "from sklearn.model_selection import cross_val_score\n",
    "\n",
    "#X = input attributes, y = class label\n",
    "X = df[hd_feature_names]\n",
    "y=df.iloc[:,13]"
   ]
  },
  {
   "cell_type": "code",
   "execution_count": null,
   "metadata": {},
   "outputs": [],
   "source": [
    "X"
   ]
  },
  {
   "cell_type": "code",
   "execution_count": null,
   "metadata": {},
   "outputs": [],
   "source": [
    "y"
   ]
  },
  {
   "cell_type": "code",
   "execution_count": null,
   "metadata": {},
   "outputs": [],
   "source": [
    "#Use logistic regression with 10-fold cross validation\n",
    "log_reg=linear_model.LogisticRegression()\n",
    "\n",
    "log_reg_score=cross_val_score(log_reg,X,y,cv=10,scoring='accuracy').mean()\n",
    "\n",
    "results=[]\n",
    "results.append(['Logistic:',log_reg_score])\n",
    "print(results)"
   ]
  },
  {
   "cell_type": "code",
   "execution_count": null,
   "metadata": {},
   "outputs": [],
   "source": [
    "from sklearn import svm\n",
    "#Use linear regression with 10-fold cross validation\n",
    "linear_svm=svm.SVC(kernel='linear')\n",
    "linear_svm_score=cross_val_score(linear_svm,X,y,cv=10,scoring='accuracy').mean()\n",
    "results.append(['Linear:',linear_svm_score])\n",
    "print(results)"
   ]
  },
  {
   "cell_type": "code",
   "execution_count": null,
   "metadata": {},
   "outputs": [],
   "source": [
    "#Decision tree classifier, maximum 5 nodes deep\n",
    "from sklearn import tree\n",
    "clf = tree.DecisionTreeClassifier(max_depth=5)\n",
    "clf_score = cross_val_score(clf,X,y,cv=10,scoring='accuracy').mean()\n",
    "\n",
    "results.append(['Tree:',clf_score])\n",
    "print(results)"
   ]
  },
  {
   "cell_type": "code",
   "execution_count": null,
   "metadata": {},
   "outputs": [],
   "source": [
    "#Check decision tree max depth effect on score\n",
    "scores = []\n",
    "for i in range(1,51):\n",
    "    clf = tree.DecisionTreeClassifier(max_depth=i)\n",
    "    clf_score = cross_val_score(clf,X,y,cv=10,scoring='accuracy').mean()\n",
    "    scores.append([i,clf_score])\n",
    "\n",
    "dt = pd.DataFrame(scores,columns=['max_depth','score'])\n",
    "sns.scatterplot(data = dt,x='max_depth',y='score')\n",
    "plt.title(\"Decision tree score based on max depth allowed in tree\")"
   ]
  },
  {
   "cell_type": "code",
   "execution_count": null,
   "metadata": {
    "scrolled": true
   },
   "outputs": [],
   "source": [
    "#Visualize the created decision tree with colors\n",
    "import graphviz\n",
    "\n",
    "clf = tree.DecisionTreeClassifier(max_depth=5).fit(X,y)\n",
    "dot_data = tree.export_graphviz(clf, out_file=None, \n",
    "                                feature_names=hd_feature_names.to_list(),  \n",
    "                                class_names=['Absent','Present'],  \n",
    "                                filled=True, rounded=True,  \n",
    "                                special_characters=True)  \n",
    "graph = graphviz.Source(dot_data)\n",
    "graph.render(\"decision tree\")\n",
    "graph"
   ]
  },
  {
   "cell_type": "code",
   "execution_count": null,
   "metadata": {},
   "outputs": [],
   "source": [
    "import pickle\n",
    "filename='linear heart disease predictor.sav'\n",
    "#Fit the found model to file for prediction\n",
    "linear_svm.fit(X,y)\n",
    "pickle.dump(linear_svm,open(filename,'wb'))\n",
    "\n",
    "#load linear model made from training data\n",
    "loaded_model=pickle.load(open(filename,'rb'))"
   ]
  },
  {
   "cell_type": "code",
   "execution_count": null,
   "metadata": {},
   "outputs": [],
   "source": [
    "loaded_model"
   ]
  },
  {
   "cell_type": "code",
   "execution_count": null,
   "metadata": {},
   "outputs": [],
   "source": [
    "Thallium = 3\t\t#(3,6,7)\n",
    "Number_of_vessels_fluro = 1 #(0,1,2,3)\t\n",
    "Exercise_angina = 0 \t#(0,1)\n",
    "ST_depression =0 \t #(0,1,2,3)\n",
    "Chest_pain_type = 1 #(1,2,3,4)\n",
    "prediction = loaded_model.predict([[Thallium, Number_of_vessels_fluro, Exercise_angina, ST_depression,Chest_pain_type]])\n",
    "print('Heart disease present' if prediction else 'Heart disease absent')"
   ]
  },
  {
   "cell_type": "code",
   "execution_count": null,
   "metadata": {},
   "outputs": [],
   "source": [
    "Thallium = 7\t\t\n",
    "Number_of_vessels_fluro = 3 \t\n",
    "Exercise_angina = 1 \t\n",
    "ST_depression =2 \t\n",
    "Chest_pain_type= 3\n",
    "prediction = loaded_model.predict([[Thallium, Number_of_vessels_fluro, Exercise_angina, ST_depression,Chest_pain_type]])\n",
    "print('Heart disease present' if prediction else 'Heart disease absent')"
   ]
  },
  {
   "cell_type": "code",
   "execution_count": null,
   "metadata": {},
   "outputs": [],
   "source": []
  }
 ],
 "metadata": {
  "interpreter": {
   "hash": "f5818d9adad6858b2c3bab230a09e9eadf1d8e93d5dca615cd725615836e98b6"
  },
  "kernelspec": {
   "display_name": "Python 3 (ipykernel)",
   "language": "python",
   "name": "python3"
  },
  "language_info": {
   "codemirror_mode": {
    "name": "ipython",
    "version": 3
   },
   "file_extension": ".py",
   "mimetype": "text/x-python",
   "name": "python",
   "nbconvert_exporter": "python",
   "pygments_lexer": "ipython3",
   "version": "3.7.10"
  }
 },
 "nbformat": 4,
 "nbformat_minor": 4
}
